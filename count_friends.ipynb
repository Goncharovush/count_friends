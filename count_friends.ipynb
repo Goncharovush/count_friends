{
 "cells": [
  {
   "cell_type": "code",
   "execution_count": 24,
   "id": "white-crowd",
   "metadata": {},
   "outputs": [],
   "source": [
    "def gift_friends(a):\n",
    "    count_gift = {}\n",
    "    for gift in a:\n",
    "        if count_gift.get(gift):\n",
    "            count_gift[gift] += 1\n",
    "        else:\n",
    "            count_gift[gift] = 1\n",
    "    min_friends = min([count_gift[k] for k in count_gift.keys()])\n",
    "    return min_friends"
   ]
  },
  {
   "cell_type": "code",
   "execution_count": 25,
   "id": "dangerous-alert",
   "metadata": {},
   "outputs": [],
   "source": [
    "# Функция get имеет сложность O(1), так же как и обращение к словарю по ключу\n",
    "# Функция min имеет сложность O(n)\n",
    "# Сложность такой функции будет равна O(n+m)=O(n), где n - длина массива a, m-длина словаря. \n",
    "# Но так как по условию m <= n, то O(n+m)=O(2n)=O(n)"
   ]
  },
  {
   "cell_type": "code",
   "execution_count": 26,
   "id": "outer-brooklyn",
   "metadata": {},
   "outputs": [
    {
     "name": "stdout",
     "output_type": "stream",
     "text": [
      "Max friends count with gifts ['a', 'b', 'c']: 1\n",
      "Max friends count with gifts ['a', 'b', 'c', 'a', 'b', 'c', 'd']: 1\n",
      "Max friends count with gifts ['a', 'b', 'c', 'a', 'b', 'c']: 2\n"
     ]
    }
   ],
   "source": [
    "a = ['a','b','c']\n",
    "b = ['a','b','c','a','b','c', 'd']\n",
    "c = ['a','b','c','a','b','c']\n",
    "for m in (a, b, c):\n",
    "    print(\"Max friends count with gifts {}: {}\".format(m, gift_friends(m)))"
   ]
  },
  {
   "cell_type": "code",
   "execution_count": null,
   "id": "double-physics",
   "metadata": {},
   "outputs": [],
   "source": []
  }
 ],
 "metadata": {
  "kernelspec": {
   "display_name": "Python 3",
   "language": "python",
   "name": "python3"
  },
  "language_info": {
   "codemirror_mode": {
    "name": "ipython",
    "version": 3
   },
   "file_extension": ".py",
   "mimetype": "text/x-python",
   "name": "python",
   "nbconvert_exporter": "python",
   "pygments_lexer": "ipython3",
   "version": "3.6.8"
  }
 },
 "nbformat": 4,
 "nbformat_minor": 5
}
